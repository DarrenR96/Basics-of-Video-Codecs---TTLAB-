{
 "cells": [
  {
   "cell_type": "code",
   "execution_count": null,
   "metadata": {
    "slideshow": {
     "slide_type": "skip"
    }
   },
   "outputs": [],
   "source": [
    "import numpy as np\n",
    "%matplotlib inline\n",
    "import matplotlib.pyplot as plt\n",
    "import matplotlib.image as mpimg\n",
    "from scipy.fftpack import dct,idct"
   ]
  },
  {
   "cell_type": "markdown",
   "metadata": {
    "slideshow": {
     "slide_type": "slide"
    }
   },
   "source": [
    "# The Basics of Codecs from a DSP Standpoint\n",
    "\n",
    "##### Darren Ramsook\n",
    "<img src=\"./Files/TTLAB.png\" alt=\"Drawing\" style=\"width: 200px;\"/>\n"
   ]
  },
  {
   "cell_type": "markdown",
   "metadata": {
    "slideshow": {
     "slide_type": "slide"
    }
   },
   "source": [
    "#### Presentation Overview\n",
    "\n",
    "* Foundation Knowledge\n",
    "    * Image Representation\n",
    "    * Bit Depth\n",
    "* Video Codecs\n",
    "    * Intro. & History to Codecs\n",
    "    * Generic Codec Practices\n",
    "* Slides based on content from: https://github.com/leandromoreira/digital_video_introduction"
   ]
  },
  {
   "cell_type": "markdown",
   "metadata": {
    "slideshow": {
     "slide_type": "slide"
    }
   },
   "source": [
    "#### Image Representation\n",
    "* Digital Images are represented as a either a single Matrix (E.g. Black & White) or a stack of Matrices (E.g. RGB Images)\n",
    "\n",
    "<img src=\"./Files/imageRep.png\" alt=\"Drawing\" style=\"width: 600px;\"/>\n"
   ]
  },
  {
   "cell_type": "code",
   "execution_count": null,
   "metadata": {
    "slideshow": {
     "slide_type": "slide"
    }
   },
   "outputs": [],
   "source": [
    "smileFace = np.array([[0,0,0,0,0],[0,1,0,1,0],[0,0,1,0,0],[1,0,0,0,1],[0,1,1,1,0]])\n",
    "print(smileFace)\n",
    "#plt.imshow(smileFace, cmap=\"Greys\", vmin=0, vmax=1)\n",
    "#plt.colorbar()"
   ]
  },
  {
   "cell_type": "code",
   "execution_count": null,
   "metadata": {
    "slideshow": {
     "slide_type": "slide"
    }
   },
   "outputs": [],
   "source": [
    "rgbDemo = mpimg.imread(\"./Files/RGBImg.jpeg\")\n",
    "print(rgbDemo.shape)\n",
    "plt.rcParams['figure.figsize'] = [10, 5]\n",
    "fig, (ax1, ax2, ax3, ax4) = plt.subplots(1,4)\n",
    "ax1.axis('off')\n",
    "ax2.axis('off')\n",
    "ax3.axis('off')\n",
    "ax4.axis('off')\n",
    "ax1.imshow(rgbDemo) # Full Color\n",
    "ax2.imshow(rgbDemo[:,:,0]) # Red Intensities\n",
    "ax3.imshow(rgbDemo[:,:,1]) # Blue Intensities\n",
    "ax4.imshow(rgbDemo[:,:,2]) # Green Intensities"
   ]
  },
  {
   "cell_type": "markdown",
   "metadata": {
    "slideshow": {
     "slide_type": "slide"
    }
   },
   "source": [
    "#### Bit-depth\n",
    "\n",
    "* Quantifies the color intensity being stored in an image channel.\n",
    "* \"True Color\" = 16,777,216\n",
    "    * 8 bits per pixel in a specific channel\n",
    "    * 24 bits per pixel\n",
    "<img src=\"./Files/bitdepth.png\" alt=\"Drawing\" style=\"width: 200px;\"/>\n"
   ]
  },
  {
   "cell_type": "code",
   "execution_count": null,
   "metadata": {
    "slideshow": {
     "slide_type": "slide"
    }
   },
   "outputs": [],
   "source": [
    "tobago = mpimg.imread(\"./Files/tobago.jpg\")\n",
    "plt.imshow(tobago)\n",
    "print(tobago.shape)"
   ]
  },
  {
   "cell_type": "code",
   "execution_count": null,
   "metadata": {
    "slideshow": {
     "slide_type": "slide"
    }
   },
   "outputs": [],
   "source": [
    "bitDepthConv = lambda i : int(((int((i/255)*4))/4)*255)\n",
    "vectorizedbitDepthConv = np.vectorize(bitDepthConv)\n",
    "tobago12BitDepth = vectorizedbitDepthConv(tobago)\n",
    "plt.imshow(tobago12BitDepth,vmin=0,vmax=1)\n",
    "# Total colours = 2^8 = 256"
   ]
  },
  {
   "cell_type": "markdown",
   "metadata": {
    "slideshow": {
     "slide_type": "slide"
    }
   },
   "source": [
    "#### Video Codecs\n",
    "* Without compression a 1hr30mins, 30fps, 3840 x 2160 (4k), 24 bits per pixel movie would need disk space:\n",
    "\n",
    "$4031.08 GBs = \\frac{5400(seconds)*30(fps)*8294400(pixels)*24(bitsperpixel)}{8(conversionToBytes)}$\n",
    "\n",
    "* Streaming a 1280 x 720, 30fps, 24 bits per pixel would require bandwidth: 663.552 Mbps"
   ]
  },
  {
   "cell_type": "markdown",
   "metadata": {
    "slideshow": {
     "slide_type": "slide"
    }
   },
   "source": [
    "* Codec is a portmanteau of Encoder-Decoder\n",
    "* Codec timeline:\n",
    "<img src=\"./Files/historyCodec.png\" alt=\"Drawing\" style=\"width: 800px;\"/>\n"
   ]
  },
  {
   "cell_type": "markdown",
   "metadata": {
    "slideshow": {
     "slide_type": "slide"
    }
   },
   "source": [
    "## Generic Codec Practices:\n",
    "\n",
    "* Picture Partitioning\n",
    "* Predictions \n",
    "* Transform\n",
    "* Quantization\n",
    "* Entropy Coding\n",
    "* Bitstream Format"
   ]
  },
  {
   "cell_type": "markdown",
   "metadata": {
    "slideshow": {
     "slide_type": "slide"
    }
   },
   "source": [
    "#### Picture Partitioning\n",
    "\n",
    "* Dividing the frame into small partitions and even sub partitions\n",
    "* By splitting, predictions can be better focused\n",
    "    * Small paritions for smaller moving parts\n",
    "    * Bigger partitions for background\n",
    "<img src=\"./Files/partioning.png\" alt=\"Drawing\" style=\"width: 400px;\"/>\n"
   ]
  },
  {
   "cell_type": "markdown",
   "metadata": {
    "slideshow": {
     "slide_type": "slide"
    }
   },
   "source": [
    "#### Predictions\n",
    "* Inter-prediction (Temporal Redundancy) vs. Intra-prediction (Spatial Redundancy)\n",
    "* Inter-Prediction\n",
    "<img src=\"./Files/interpred.png\" alt=\"Drawing\" style=\"width: 500px;\"/>"
   ]
  },
  {
   "cell_type": "markdown",
   "metadata": {
    "slideshow": {
     "slide_type": "slide"
    }
   },
   "source": [
    "* Intra-Prediction\n",
    "<img src=\"./Files/intrapred.png\" alt=\"Drawing\" style=\"width: 300px;\"/>"
   ]
  },
  {
   "cell_type": "markdown",
   "metadata": {
    "slideshow": {
     "slide_type": "slide"
    }
   },
   "source": [
    "#### Transform\n",
    "* After getting residual blocks (Predicted Blocks - Real Blocks), it can be transformed to signify which pixels can be discared while maximizing quality.\n",
    "* One such transformation is the Discrete Cosine Transform.\n",
    "    * Change of basis from its natural representation to a sum of cosine functions "
   ]
  },
  {
   "cell_type": "code",
   "execution_count": null,
   "metadata": {
    "slideshow": {
     "slide_type": "slide"
    }
   },
   "outputs": [],
   "source": [
    "tobago = mpimg.imread(\"./Files/tobago.jpg\")\n",
    "rgb_weights = [0.2989, 0.5870, 0.1140]\n",
    "tobago_gs = np.dot(tobago, rgb_weights)\n",
    "print(tobago_gs)\n",
    "plt.imshow(tobago_gs, cmap=plt.get_cmap(\"gray\"))\n",
    "plt.colorbar()"
   ]
  },
  {
   "cell_type": "code",
   "execution_count": null,
   "metadata": {
    "slideshow": {
     "slide_type": "slide"
    }
   },
   "outputs": [],
   "source": [
    "bagoSlice = tobago_gs[300:400,700:800]\n",
    "plt.imshow(bagoSlice,cmap=plt.get_cmap(\"gray\"))\n",
    "plt.colorbar()"
   ]
  },
  {
   "cell_type": "code",
   "execution_count": null,
   "metadata": {
    "slideshow": {
     "slide_type": "slide"
    }
   },
   "outputs": [],
   "source": [
    "bagoSliceDCT = dct(bagoSlice)\n",
    "plt.imshow(bagoSliceDCT)\n",
    "plt.colorbar()"
   ]
  },
  {
   "cell_type": "code",
   "execution_count": null,
   "metadata": {
    "slideshow": {
     "slide_type": "slide"
    }
   },
   "outputs": [],
   "source": [
    "reconst = np.multiply(bagoSliceDCT,np.flip(np.tri(100,100,-1),0))\n",
    "reconst = idct(reconst)\n",
    "fig, (bagoOriginal, bagoReconst) = plt.subplots(1,2)\n",
    "bagoOriginal.imshow(bagoSlice,cmap=plt.get_cmap(\"gray\"))\n",
    "bagoReconst.imshow(reconst,cmap=plt.get_cmap(\"gray\"))"
   ]
  },
  {
   "cell_type": "markdown",
   "metadata": {
    "slideshow": {
     "slide_type": "slide"
    }
   },
   "source": [
    "#### Quantization\n",
    "\n",
    "* Removing some coefficients was a form of quantization. \n",
    "\n",
    "<img src=\"./Files/quant1.png\" alt=\"Drawing\" style=\"width: 400px;\"/>\n",
    "<img src=\"./Files/quant2.png\" alt=\"Drawing\" style=\"width: 400px;\"/>\n",
    "`"
   ]
  },
  {
   "cell_type": "markdown",
   "metadata": {
    "slideshow": {
     "slide_type": "slide"
    }
   },
   "source": [
    "#### Entropy Coding\n",
    "* Many algos that compress data.\n",
    "    * Look at VLC Coding"
   ]
  },
  {
   "cell_type": "markdown",
   "metadata": {
    "slideshow": {
     "slide_type": "slide"
    }
   },
   "source": [
    "##### VLC Coding\n",
    "Consider needing to stream symbols e,a,t and assuming that you would spend 8 bits for each symbol, therefore 24 bits without compression.\n",
    "<img src=\"./Files/vlccoding.png\" alt=\"Drawing\" style=\"width: 200px;\"/>\n",
    "\n",
    "This can be encoded as [10][0][1110] or 1001110 which requires 7 bits for the stream.\n",
    "\n",
    "*Both encoder and decoder must have the symbol/binary table"
   ]
  },
  {
   "cell_type": "markdown",
   "metadata": {
    "slideshow": {
     "slide_type": "slide"
    }
   },
   "source": [
    "#### Bitstream Format\n",
    "\n",
    "* The compressed frames and context has to be sent to inform the decoder about all the decision taken by the encoder (bit depth, color space, resolution, pred. info (motion vectors etc.)) and many more.\n",
    "\n",
    "* E.g. the H.264 standard defines that info must be sent in macro frames called the Network Abstraction Layer units. "
   ]
  },
  {
   "cell_type": "markdown",
   "metadata": {
    "slideshow": {
     "slide_type": "slide"
    }
   },
   "source": [
    "<img src=\"./Files/bitstream.png\" alt=\"Drawing\" style=\"width: 400px;\"/>\n",
    "<img src=\"./Files/lut.png\" alt=\"Drawing\" style=\"width: 250px;\"/>\n"
   ]
  },
  {
   "cell_type": "markdown",
   "metadata": {
    "slideshow": {
     "slide_type": "slide"
    }
   },
   "source": [
    "### Find this Presentation with Code on https://github.com/DarrenR96/"
   ]
  }
 ],
 "metadata": {
  "celltoolbar": "Slideshow",
  "kernelspec": {
   "display_name": "Python 3",
   "language": "python",
   "name": "python3"
  },
  "language_info": {
   "codemirror_mode": {
    "name": "ipython",
    "version": 3
   },
   "file_extension": ".py",
   "mimetype": "text/x-python",
   "name": "python",
   "nbconvert_exporter": "python",
   "pygments_lexer": "ipython3",
   "version": "3.7.4"
  }
 },
 "nbformat": 4,
 "nbformat_minor": 2
}
